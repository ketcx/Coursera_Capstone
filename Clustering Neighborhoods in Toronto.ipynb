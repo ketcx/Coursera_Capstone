{
    "cells": [
        {
            "metadata": {},
            "cell_type": "code",
            "source": "# @hidden_cell\n# The project token is an authorization token that is used to access project resources like data sources, connections, and used by platform APIs.\nfrom project_lib import Project\nproject = Project(project_id='ff2ca45c-1e03-4f70-a1e4-366c5555ede7', project_access_token='p-36349a285fcfaf72dd5ed603fda2088e50f0f7ce')\npc = project.project_context\n",
            "execution_count": 32,
            "outputs": []
        },
        {
            "metadata": {
                "collapsed": true
            },
            "cell_type": "markdown",
            "source": "<div style=\"text-align: center;margin-bottom:3em\">\n<h1>Segmenting and Clustering Neighborhoods in Toronto</h1>\n</div>"
        },
        {
            "metadata": {},
            "cell_type": "markdown",
            "source": "## Libraries imported"
        },
        {
            "metadata": {},
            "cell_type": "code",
            "source": "import numpy as np\nimport pandas as pd\n\nfrom bs4 import BeautifulSoup\nimport lxml       \nimport requests   \n\nfrom urllib.request import urlopen\nimport ssl\nimport csv\n\nprint('Libraries imported.')",
            "execution_count": 142,
            "outputs": [
                {
                    "output_type": "stream",
                    "text": "Libraries imported.\n",
                    "name": "stdout"
                }
            ]
        },
        {
            "metadata": {},
            "cell_type": "code",
            "source": "# Ignore SSL certificate errors\nctx = ssl.create_default_context()\nctx.check_hostname = False\nctx.verify_mode = ssl.CERT_NONE\n\nprint('SSL certificate errors ignored.')",
            "execution_count": 143,
            "outputs": [
                {
                    "output_type": "stream",
                    "text": "SSL certificate errors ignored.\n",
                    "name": "stdout"
                }
            ]
        },
        {
            "metadata": {},
            "cell_type": "markdown",
            "source": "## Scrapping data"
        },
        {
            "metadata": {},
            "cell_type": "code",
            "source": "#Current version is the hell https://en.wikipedia.org/wiki/List_of_postal_codes_of_Canada:_M').text\n\nsource = requests.get('https://en.wikipedia.org/w/index.php?title=List_of_postal_codes_of_Canada:_M&oldid=890001695').text\n\nsoup = BeautifulSoup(source, 'lxml')\ndata_table = soup.find('table', {'class' : 'wikitable sortable'})\n\nprint('Scrapping data')",
            "execution_count": 261,
            "outputs": [
                {
                    "output_type": "stream",
                    "text": "Scrapping data\n",
                    "name": "stdout"
                }
            ]
        },
        {
            "metadata": {},
            "cell_type": "markdown",
            "source": "## Create dataframe\n"
        },
        {
            "metadata": {},
            "cell_type": "code",
            "source": "df = pd.read_html(data_table.prettify(), header=None, skiprows=0)[0]\ndf.columns = ['Postalcode', 'Borough', 'Neighbourhood']\n#df.head()\ndf.shape",
            "execution_count": 269,
            "outputs": [
                {
                    "output_type": "execute_result",
                    "execution_count": 269,
                    "data": {
                        "text/plain": "(288, 3)"
                    },
                    "metadata": {}
                }
            ]
        },
        {
            "metadata": {},
            "cell_type": "markdown",
            "source": "## Remove \"Not Assigned\""
        },
        {
            "metadata": {},
            "cell_type": "code",
            "source": "indexNo = df[df['Borough'] == 'Not assigned'].index\ndf.drop(indexNo, inplace = True)\ndf.loc[df['Neighbourhood'] == 'Not assigned', 'Neighbourhood'] = df['Borough']\ndf.head()",
            "execution_count": 270,
            "outputs": [
                {
                    "output_type": "execute_result",
                    "execution_count": 270,
                    "data": {
                        "text/plain": "  Postalcode           Borough     Neighbourhood\n2        M3A        North York         Parkwoods\n3        M4A        North York  Victoria Village\n4        M5A  Downtown Toronto      Harbourfront\n5        M5A  Downtown Toronto       Regent Park\n6        M6A        North York  Lawrence Heights",
                        "text/html": "<div>\n<style scoped>\n    .dataframe tbody tr th:only-of-type {\n        vertical-align: middle;\n    }\n\n    .dataframe tbody tr th {\n        vertical-align: top;\n    }\n\n    .dataframe thead th {\n        text-align: right;\n    }\n</style>\n<table border=\"1\" class=\"dataframe\">\n  <thead>\n    <tr style=\"text-align: right;\">\n      <th></th>\n      <th>Postalcode</th>\n      <th>Borough</th>\n      <th>Neighbourhood</th>\n    </tr>\n  </thead>\n  <tbody>\n    <tr>\n      <th>2</th>\n      <td>M3A</td>\n      <td>North York</td>\n      <td>Parkwoods</td>\n    </tr>\n    <tr>\n      <th>3</th>\n      <td>M4A</td>\n      <td>North York</td>\n      <td>Victoria Village</td>\n    </tr>\n    <tr>\n      <th>4</th>\n      <td>M5A</td>\n      <td>Downtown Toronto</td>\n      <td>Harbourfront</td>\n    </tr>\n    <tr>\n      <th>5</th>\n      <td>M5A</td>\n      <td>Downtown Toronto</td>\n      <td>Regent Park</td>\n    </tr>\n    <tr>\n      <th>6</th>\n      <td>M6A</td>\n      <td>North York</td>\n      <td>Lawrence Heights</td>\n    </tr>\n  </tbody>\n</table>\n</div>"
                    },
                    "metadata": {}
                }
            ]
        },
        {
            "metadata": {},
            "cell_type": "markdown",
            "source": "## Combining into one row with the neighborhoods"
        },
        {
            "metadata": {},
            "cell_type": "code",
            "source": "df_t = df.groupby(['Postalcode', 'Borough'], sort = False).agg( ','.join)\ndf_combined = df_t.reset_index()",
            "execution_count": 273,
            "outputs": []
        },
        {
            "metadata": {},
            "cell_type": "markdown",
            "source": "## Shape method to print the number of rows of your dataframe"
        },
        {
            "metadata": {},
            "cell_type": "code",
            "source": "df_combined.shape",
            "execution_count": 274,
            "outputs": [
                {
                    "output_type": "execute_result",
                    "execution_count": 274,
                    "data": {
                        "text/plain": "(103, 3)"
                    },
                    "metadata": {}
                }
            ]
        },
        {
            "metadata": {},
            "cell_type": "code",
            "source": "",
            "execution_count": null,
            "outputs": []
        }
    ],
    "metadata": {
        "kernelspec": {
            "name": "python3",
            "display_name": "Python 3.6",
            "language": "python"
        },
        "language_info": {
            "name": "python",
            "version": "3.6.9",
            "mimetype": "text/x-python",
            "codemirror_mode": {
                "name": "ipython",
                "version": 3
            },
            "pygments_lexer": "ipython3",
            "nbconvert_exporter": "python",
            "file_extension": ".py"
        }
    },
    "nbformat": 4,
    "nbformat_minor": 1
}