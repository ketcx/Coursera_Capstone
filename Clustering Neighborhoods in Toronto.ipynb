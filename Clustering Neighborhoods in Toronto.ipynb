{
    "cells": [
        {
            "cell_type": "markdown",
            "metadata": {
                "collapsed": true
            },
            "source": "<div style=\"text-align: center;margin-bottom:3em\">\n<h1>Segmenting and Clustering Neighborhoods in Toronto</h1>\n</div>"
        },
        {
            "cell_type": "markdown",
            "metadata": {},
            "source": "## Libraries imported"
        },
        {
            "cell_type": "code",
            "execution_count": 142,
            "metadata": {},
            "outputs": [
                {
                    "name": "stdout",
                    "output_type": "stream",
                    "text": "Libraries imported.\n"
                }
            ],
            "source": "import numpy as np\nimport pandas as pd\n\nfrom bs4 import BeautifulSoup\nimport lxml       \nimport requests   \n\nfrom urllib.request import urlopen\nimport ssl\nimport csv\n\nprint('Libraries imported.')"
        },
        {
            "cell_type": "code",
            "execution_count": 143,
            "metadata": {},
            "outputs": [
                {
                    "name": "stdout",
                    "output_type": "stream",
                    "text": "SSL certificate errors ignored.\n"
                }
            ],
            "source": "# Ignore SSL certificate errors\nctx = ssl.create_default_context()\nctx.check_hostname = False\nctx.verify_mode = ssl.CERT_NONE\n\nprint('SSL certificate errors ignored.')"
        },
        {
            "cell_type": "markdown",
            "metadata": {},
            "source": "## Scrapping data"
        },
        {
            "cell_type": "code",
            "execution_count": 261,
            "metadata": {},
            "outputs": [
                {
                    "name": "stdout",
                    "output_type": "stream",
                    "text": "Scrapping data\n"
                }
            ],
            "source": "#Current version is the hell https://en.wikipedia.org/wiki/List_of_postal_codes_of_Canada:_M').text\n\nsource = requests.get('https://en.wikipedia.org/w/index.php?title=List_of_postal_codes_of_Canada:_M&oldid=890001695').text\n\nsoup = BeautifulSoup(source, 'lxml')\ndata_table = soup.find('table', {'class' : 'wikitable sortable'})\n\nprint('Scrapping data')"
        },
        {
            "cell_type": "markdown",
            "metadata": {},
            "source": "## Create dataframe\n"
        },
        {
            "cell_type": "code",
            "execution_count": 269,
            "metadata": {},
            "outputs": [
                {
                    "data": {
                        "text/plain": "(288, 3)"
                    },
                    "execution_count": 269,
                    "metadata": {},
                    "output_type": "execute_result"
                }
            ],
            "source": "df = pd.read_html(data_table.prettify(), header=None, skiprows=0)[0]\ndf.columns = ['Postalcode', 'Borough', 'Neighbourhood']\n#df.head()\ndf.shape"
        },
        {
            "cell_type": "markdown",
            "metadata": {},
            "source": "## Remove \"Not Assigned\""
        },
        {
            "cell_type": "code",
            "execution_count": 270,
            "metadata": {},
            "outputs": [
                {
                    "data": {
                        "text/html": "<div>\n<style scoped>\n    .dataframe tbody tr th:only-of-type {\n        vertical-align: middle;\n    }\n\n    .dataframe tbody tr th {\n        vertical-align: top;\n    }\n\n    .dataframe thead th {\n        text-align: right;\n    }\n</style>\n<table border=\"1\" class=\"dataframe\">\n  <thead>\n    <tr style=\"text-align: right;\">\n      <th></th>\n      <th>Postalcode</th>\n      <th>Borough</th>\n      <th>Neighbourhood</th>\n    </tr>\n  </thead>\n  <tbody>\n    <tr>\n      <th>2</th>\n      <td>M3A</td>\n      <td>North York</td>\n      <td>Parkwoods</td>\n    </tr>\n    <tr>\n      <th>3</th>\n      <td>M4A</td>\n      <td>North York</td>\n      <td>Victoria Village</td>\n    </tr>\n    <tr>\n      <th>4</th>\n      <td>M5A</td>\n      <td>Downtown Toronto</td>\n      <td>Harbourfront</td>\n    </tr>\n    <tr>\n      <th>5</th>\n      <td>M5A</td>\n      <td>Downtown Toronto</td>\n      <td>Regent Park</td>\n    </tr>\n    <tr>\n      <th>6</th>\n      <td>M6A</td>\n      <td>North York</td>\n      <td>Lawrence Heights</td>\n    </tr>\n  </tbody>\n</table>\n</div>",
                        "text/plain": "  Postalcode           Borough     Neighbourhood\n2        M3A        North York         Parkwoods\n3        M4A        North York  Victoria Village\n4        M5A  Downtown Toronto      Harbourfront\n5        M5A  Downtown Toronto       Regent Park\n6        M6A        North York  Lawrence Heights"
                    },
                    "execution_count": 270,
                    "metadata": {},
                    "output_type": "execute_result"
                }
            ],
            "source": "indexNo = df[df['Borough'] == 'Not assigned'].index\ndf.drop(indexNo, inplace = True)\ndf.loc[df['Neighbourhood'] == 'Not assigned', 'Neighbourhood'] = df['Borough']\ndf.head()"
        },
        {
            "cell_type": "markdown",
            "metadata": {},
            "source": "## Combining into one row with the neighborhoods"
        },
        {
            "cell_type": "code",
            "execution_count": 273,
            "metadata": {},
            "outputs": [],
            "source": "df_t = df.groupby(['Postalcode', 'Borough'], sort = False).agg( ','.join)\ndf_combined = df_t.reset_index()"
        },
        {
            "cell_type": "markdown",
            "metadata": {},
            "source": "## Shape method to print the number of rows of your dataframe"
        },
        {
            "cell_type": "code",
            "execution_count": 274,
            "metadata": {},
            "outputs": [
                {
                    "data": {
                        "text/plain": "(103, 3)"
                    },
                    "execution_count": 274,
                    "metadata": {},
                    "output_type": "execute_result"
                }
            ],
            "source": "df_combined.shape"
        },
        {
            "cell_type": "code",
            "execution_count": null,
            "metadata": {},
            "outputs": [],
            "source": ""
        }
    ],
    "metadata": {
        "kernelspec": {
            "display_name": "Python 3.6",
            "language": "python",
            "name": "python3"
        },
        "language_info": {
            "codemirror_mode": {
                "name": "ipython",
                "version": 3
            },
            "file_extension": ".py",
            "mimetype": "text/x-python",
            "name": "python",
            "nbconvert_exporter": "python",
            "pygments_lexer": "ipython3",
            "version": "3.6.9"
        }
    },
    "nbformat": 4,
    "nbformat_minor": 1
}